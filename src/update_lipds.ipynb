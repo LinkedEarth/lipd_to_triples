{
 "cells": [
  {
   "cell_type": "code",
   "execution_count": 10,
   "id": "b597167d",
   "metadata": {},
   "outputs": [],
   "source": [
    "import os\n",
    "import re\n",
    "import lipd.versions as lv\n",
    "import lipd.lipd_io as lio\n",
    "import zipfile\n",
    "import json"
   ]
  },
  {
   "cell_type": "code",
   "execution_count": 2,
   "id": "809d9873",
   "metadata": {},
   "outputs": [],
   "source": [
    "old_lipd_dir = \"../../LiPDs\"\n",
    "new_lipd_dir = \"../data/lpd\"\n",
    "lipd_unzip_dir = \"../data/unzipped\""
   ]
  },
  {
   "cell_type": "code",
   "execution_count": 3,
   "id": "595a4b5d",
   "metadata": {},
   "outputs": [
    {
     "name": "stdout",
     "output_type": "stream",
     "text": [
      "/Users/varun/git/LiPD/PyLiPD/src\n"
     ]
    }
   ],
   "source": [
    "!pwd"
   ]
  },
  {
   "cell_type": "code",
   "execution_count": 4,
   "id": "bcca70ed",
   "metadata": {},
   "outputs": [],
   "source": [
    "def update_lipd_and_save(oldfilepath, newfilepath):\n",
    "    #try:\n",
    "    ds = lio.lipd_read(oldfilepath)\n",
    "    lio.lipd_write(ds, newfilepath)\n",
    "    #except Exception as e:\n",
    "    #    print(e)"
   ]
  },
  {
   "cell_type": "code",
   "execution_count": 5,
   "id": "a1705dfe",
   "metadata": {},
   "outputs": [],
   "source": [
    "def find_files_with_extension(directory, extension):\n",
    "    myregexobj = re.compile('\\.'+extension+'$')\n",
    "    try: \n",
    "        for entry in os.scandir(directory):\n",
    "            if entry.is_file() and myregexobj.search(entry.path): \n",
    "                yield entry.path, entry.name\n",
    "            elif entry.is_dir():   # if its a directory, then repeat process as a nested function\n",
    "                yield from find_files_with_extension(entry.path, extension)\n",
    "    except OSError as ose:\n",
    "        print('Cannot access ' + path +'. Probably a permissions error ', ose)\n",
    "    except FileNotFoundError as fnf:\n",
    "        print(path +' not found ', fnf)"
   ]
  },
  {
   "cell_type": "code",
   "execution_count": 6,
   "id": "35fc3c1f",
   "metadata": {},
   "outputs": [],
   "source": [
    "def unzip_lipd_file(lipdfile, unzipdir):\n",
    "    with zipfile.ZipFile(lipdfile, 'r') as zip_ref:\n",
    "        zip_ref.extractall(unzipdir)"
   ]
  },
  {
   "cell_type": "code",
   "execution_count": 6,
   "id": "3f92bbdc",
   "metadata": {},
   "outputs": [],
   "source": [
    "oldfiles = find_files_with_extension(old_lipd_dir, 'lpd')"
   ]
  },
  {
   "cell_type": "code",
   "execution_count": 10,
   "id": "f1c0a042",
   "metadata": {},
   "outputs": [
    {
     "name": "stdout",
     "output_type": "stream",
     "text": [
      "................................................................................................................................................................................................................................................................................................................................................................................................................................................................................................................................................................................................................................................................................................................................1.59 MB :That's a big file! This may take a while to load...\n",
      "....................................1.1 MB :That's a big file! This may take a while to load...\n",
      "...............................Error: Unable to write CSV: There was an error trying to prep the values for file write: list assignment index out of range\n",
      "Error: Unable to write values to CSV file, Ocn-WestSpitzberg.Bonnet.2010.paleo2measurement0.csv:\n",
      "(1) The data table may have 2 or more identical variables. Please correct the LiPD file manually\n",
      "(2) There may have been an error trying to prep the values for file write. The 'number' field in the data columns may be a 'string' instead of an 'integer' data type\n",
      "'NoneType' object is not iterable\n",
      "..............1.29 MB :That's a big file! This may take a while to load...\n",
      "..............................................................................................................1.71 MB :That's a big file! This may take a while to load...\n",
      "........................1.29 MB :That's a big file! This may take a while to load...\n",
      "..........1.29 MB :That's a big file! This may take a while to load...\n",
      "......................................................................1.6 MB :That's a big file! This may take a while to load...\n",
      "...1.29 MB :That's a big file! This may take a while to load...\n",
      "...........................................................................................................1.44 MB :That's a big file! This may take a while to load...\n",
      "............................................................................................................................1.11 MB :That's a big file! This may take a while to load...\n",
      "..............................................1.9 MB :That's a big file! This may take a while to load...\n",
      "...............................1.77 MB :That's a big file! This may take a while to load...\n",
      ".................................1.17 MB :That's a big file! This may take a while to load...\n",
      ".1.04 MB :That's a big file! This may take a while to load...\n",
      "....3.79 MB :That's a big file! This may take a while to load...\n",
      ".1.41 MB :That's a big file! This may take a while to load...\n",
      "...2.55 MB :That's a big file! This may take a while to load...\n",
      ".2.01 MB :That's a big file! This may take a while to load...\n",
      ".1.02 MB :That's a big file! This may take a while to load...\n",
      ".2.9 MB :That's a big file! This may take a while to load...\n",
      "..1.53 MB :That's a big file! This may take a while to load...\n",
      "...1.58 MB :That's a big file! This may take a while to load...\n",
      "....2.12 MB :That's a big file! This may take a while to load...\n",
      "..1.28 MB :That's a big file! This may take a while to load...\n",
      ".3.44 MB :That's a big file! This may take a while to load...\n",
      ".1.22 MB :That's a big file! This may take a while to load...\n",
      "....2.77 MB :That's a big file! This may take a while to load...\n",
      "..2.38 MB :That's a big file! This may take a while to load...\n",
      "..2.73 MB :That's a big file! This may take a while to load...\n",
      "....6.06 MB :That's a big file! This may take a while to load...\n",
      ".3.21 MB :That's a big file! This may take a while to load...\n",
      "...1.45 MB :That's a big file! This may take a while to load...\n",
      ".4.81 MB :That's a big file! This may take a while to load...\n",
      "....2.13 MB :That's a big file! This may take a while to load...\n",
      ".2.83 MB :That's a big file! This may take a while to load...\n",
      ".6.5 MB :That's a big file! This may take a while to load...\n",
      ".1.27 MB :That's a big file! This may take a while to load...\n",
      "..1.11 MB :That's a big file! This may take a while to load...\n",
      "..1.64 MB :That's a big file! This may take a while to load...\n",
      ".2.22 MB :That's a big file! This may take a while to load...\n",
      "..1.94 MB :That's a big file! This may take a while to load...\n",
      "..10.33 MB :That's a big file! This may take a while to load...\n",
      ".2.54 MB :That's a big file! This may take a while to load...\n",
      "....1.69 MB :That's a big file! This may take a while to load...\n",
      ".1.0 MB :That's a big file! This may take a while to load...\n",
      "..1.09 MB :That's a big file! This may take a while to load...\n",
      ".2.33 MB :That's a big file! This may take a while to load...\n",
      ".4.96 MB :That's a big file! This may take a while to load...\n",
      ".1.88 MB :That's a big file! This may take a while to load...\n",
      "..7.74 MB :That's a big file! This may take a while to load...\n",
      "..2.03 MB :That's a big file! This may take a while to load...\n",
      "..1.41 MB :That's a big file! This may take a while to load...\n",
      "...5.03 MB :That's a big file! This may take a while to load...\n",
      "....2.81 MB :That's a big file! This may take a while to load...\n",
      "...6.77 MB :That's a big file! This may take a while to load...\n",
      "....1.38 MB :That's a big file! This may take a while to load...\n",
      ".2.41 MB :That's a big file! This may take a while to load...\n",
      "....1.68 MB :That's a big file! This may take a while to load...\n",
      "......1.33 MB :That's a big file! This may take a while to load...\n",
      ".1.55 MB :That's a big file! This may take a while to load...\n",
      ".1.72 MB :That's a big file! This may take a while to load...\n",
      ".8.16 MB :That's a big file! This may take a while to load...\n",
      ".1.19 MB :That's a big file! This may take a while to load...\n",
      ".3.12 MB :That's a big file! This may take a while to load...\n",
      "...1.54 MB :That's a big file! This may take a while to load...\n",
      ".3.25 MB :That's a big file! This may take a while to load...\n",
      ".3.93 MB :That's a big file! This may take a while to load...\n",
      "...4.26 MB :That's a big file! This may take a while to load...\n",
      ".1.14 MB :That's a big file! This may take a while to load...\n",
      "...1.78 MB :That's a big file! This may take a while to load...\n",
      "...1.69 MB :That's a big file! This may take a while to load...\n",
      "...1.7 MB :That's a big file! This may take a while to load...\n",
      ".1.77 MB :That's a big file! This may take a while to load...\n",
      "..9.71 MB :That's a big file! This may take a while to load...\n",
      "..2.18 MB :That's a big file! This may take a while to load...\n",
      "...1.61 MB :That's a big file! This may take a while to load...\n",
      "..9.29 MB :That's a big file! This may take a while to load...\n",
      "..2.23 MB :That's a big file! This may take a while to load...\n",
      ".3.67 MB :That's a big file! This may take a while to load...\n",
      ".5.2 MB :That's a big file! This may take a while to load...\n",
      ".3.26 MB :That's a big file! This may take a while to load...\n",
      ".2.96 MB :That's a big file! This may take a while to load...\n",
      ".1.04 MB :That's a big file! This may take a while to load...\n",
      ".1.46 MB :That's a big file! This may take a while to load...\n",
      "........................................................................................................................................................................................................................................................................................................................................................................................................................................................................................................................................................................................................................................................................................................................................................................................................................................................................................................................................................................................................................................Error: idx_col_by_name: inner: 'number'\n",
      ".........................................................................................................................................................................................................................................................................................................................................................................................................................................................................................................................................................................................................................................................................................................................................................................................................................................................................................................................."
     ]
    }
   ],
   "source": [
    "for oldfilepath, oldfilename in oldfiles:\n",
    "    oldcatdir = os.path.basename(os.path.dirname(oldfilepath))\n",
    "    newcatdir = os.path.join(new_lipd_dir, oldcatdir)\n",
    "    if not os.path.exists(newcatdir):\n",
    "        os.makedirs(newcatdir)\n",
    "    update_lipd_and_save(oldfilepath, newcatdir)\n",
    "    print(\".\", flush=True, end='')"
   ]
  },
  {
   "cell_type": "code",
   "execution_count": 22,
   "id": "439b142e",
   "metadata": {},
   "outputs": [],
   "source": [
    "newfiles = find_files_with_extension(new_lipd_dir, 'lpd')\n",
    "\n",
    "for lpdfilepath, lpdfilename in newfiles:\n",
    "    catdir = os.path.basename(os.path.dirname(lpdfilepath))\n",
    "    unzipcatdir = os.path.join(lipd_unzip_dir, catdir, lpdfilename)\n",
    "    unzip_lipd_file(lpdfilepath, unzipcatdir)"
   ]
  },
  {
   "cell_type": "code",
   "execution_count": null,
   "id": "8e4ac1e5",
   "metadata": {},
   "outputs": [],
   "source": []
  }
 ],
 "metadata": {
  "kernelspec": {
   "display_name": "Python 3 (ipykernel)",
   "language": "python",
   "name": "python3"
  },
  "language_info": {
   "codemirror_mode": {
    "name": "ipython",
    "version": 3
   },
   "file_extension": ".py",
   "mimetype": "text/x-python",
   "name": "python",
   "nbconvert_exporter": "python",
   "pygments_lexer": "ipython3",
   "version": "3.9.13"
  }
 },
 "nbformat": 4,
 "nbformat_minor": 5
}
